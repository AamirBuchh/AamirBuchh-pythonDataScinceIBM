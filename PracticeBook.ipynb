{
 "cells": [
  {
   "cell_type": "code",
   "execution_count": 96,
   "id": "2097e608-c0b3-4682-bb3e-fd2613855f46",
   "metadata": {},
   "outputs": [
    {
     "name": "stdout",
     "output_type": "stream",
     "text": [
      "adfadsfd\n"
     ]
    }
   ],
   "source": [
    "name = \"adfadsfda\"\n",
    "print(name[0:8])"
   ]
  },
  {
   "cell_type": "code",
   "execution_count": 38,
   "id": "ca21bd66-7d96-4925-addd-53e4e02c1f98",
   "metadata": {},
   "outputs": [
    {
     "name": "stdout",
     "output_type": "stream",
     "text": [
      "a'a'a'\n"
     ]
    }
   ],
   "source": [
    "print(3 * \"a\\'\")"
   ]
  },
  {
   "cell_type": "code",
   "execution_count": 1,
   "id": "700ccfc4-0a12-47b0-b944-6023b3a54951",
   "metadata": {},
   "outputs": [
    {
     "data": {
      "text/plain": [
       "2"
      ]
     },
     "execution_count": 1,
     "metadata": {},
     "output_type": "execute_result"
    }
   ],
   "source": [
    "len((1,2))"
   ]
  },
  {
   "cell_type": "code",
   "execution_count": 2,
   "id": "ec876b70-b81a-4760-8a6f-07cccd03dc6e",
   "metadata": {},
   "outputs": [
    {
     "name": "stdout",
     "output_type": "stream",
     "text": [
      "{'gamma': 1, 'beta': 1, 'hello': 1, 'abcd': 1, 'alpha': 2}\n"
     ]
    }
   ],
   "source": [
    "wordsList = ['abcd', 'hello', 'alpha', 'beta', 'gamma', 'alpha']\n",
    "wordFreq = {}\n",
    "for word in set(wordsList):\n",
    "    wordFreq[word] = wordsList.count(word)\n",
    "print(wordFreq)"
   ]
  },
  {
   "cell_type": "code",
   "execution_count": 36,
   "id": "22631666-e86d-48fe-ba84-3dee50cbb0bc",
   "metadata": {},
   "outputs": [
    {
     "name": "stdout",
     "output_type": "stream",
     "text": [
      "3\n"
     ]
    }
   ],
   "source": [
    "with open(\"Example1.txt\",\"r\") as file1:\n",
    "    content = file1.read()\n",
    "    list1=[]\n",
    "    list1.append(content)\n",
    "    str_o = str(list1)\n",
    "    list1 = str_o.split(\"\\\\n\")\n",
    "    print(len(list1))"
   ]
  },
  {
   "cell_type": "code",
   "execution_count": 40,
   "id": "97ab1c9a",
   "metadata": {},
   "outputs": [
    {
     "name": "stdout",
     "output_type": "stream",
     "text": [
      "line  0 : This is line 1 \n",
      "\n",
      "line  0 : This is line 2\n",
      "\n",
      "line  0 : This is line 3\n"
     ]
    }
   ],
   "source": [
    "with open(\"Example1.txt\",\"r\") as file1:\n",
    "    for line in file1:\n",
    "        i=0\n",
    "        print(\"line \",i,\":\",line)\n",
    "        i = i+1;"
   ]
  },
  {
   "cell_type": "code",
   "execution_count": 3,
   "id": "361ae538",
   "metadata": {},
   "outputs": [
    {
     "name": "stdout",
     "output_type": "stream",
     "text": [
      "['This is line 1 \\n', 'This is line 2\\n', 'This is line 3']\n"
     ]
    }
   ],
   "source": [
    "with open(\"Example1.txt\",\"r\") as file1:\n",
    "    FileSaveAsLst = file1.readlines()\n",
    "    print(FileSaveAsLst)"
   ]
  },
  {
   "cell_type": "code",
   "execution_count": 58,
   "id": "ec7f776f",
   "metadata": {},
   "outputs": [],
   "source": [
    "def rplacr(lst):\n",
    "    lst1=[]\n",
    "    for item in lst_mem:\n",
    "        item = item.replace(\"  \\n\",\" \")\n",
    "        lst1.append(item)\n",
    "    lst1.remove(lst1[0])\n",
    "    return lst1\n",
    "\n",
    "\n",
    "with open(\"members.txt\",\"r\") as file1:\n",
    "    lst_mem = file1.readlines()\n",
    "    lst_r = []\n",
    "    lst_r = rplacr(lst_mem)\n",
    "    for item in lst_r:\n",
    "        print()\n"
   ]
  },
  {
   "cell_type": "code",
   "execution_count": 68,
   "id": "97ec973a",
   "metadata": {},
   "outputs": [
    {
     "name": "stdout",
     "output_type": "stream",
     "text": [
      "[' sfa no', 'sfda no', 'fdf no']\n"
     ]
    }
   ],
   "source": [
    "# LIST COMREHENSION\n",
    "text = [\"its yes\", \" sfa no\", \"sfda no\",\"sad yes\", \"fdf no\"]\n",
    "zeroes = [zero for zero in text if (\"no\" in zero )]\n",
    "print(zeroes)"
   ]
  },
  {
   "cell_type": "code",
   "execution_count": 95,
   "id": "262d1b01",
   "metadata": {},
   "outputs": [],
   "source": [
    "with open(\"mem.txt\",\"r+\") as file_r:\n",
    "    with open (\"ina.txt\",\"a+\") as file_a:\n",
    "        members = file_r.readlines()\n",
    "        members.pop(0)\n",
    "        file_r.seek(0,0)\n",
    "        file_r.readline()\n",
    "        active = [item for item in members if (\"yes\" in item)]\n",
    "        in_active = [item for item in members if (\"no\" in item)]\n",
    "        for item in active:\n",
    "            file_r.write(item)\n",
    "        for item in in_active:\n",
    "            file_a.write(item)\n",
    "        file_r.truncate\n"
   ]
  },
  {
   "cell_type": "code",
   "execution_count": null,
   "id": "eb8d6678",
   "metadata": {},
   "outputs": [],
   "source": [
    "import pandas as pd\n"
   ]
  }
 ],
 "metadata": {
  "interpreter": {
   "hash": "181683c372a60e7dad51a2c9e109bb45010b8ede1a61f40b36c171f4d84f39ea"
  },
  "kernelspec": {
   "display_name": "Python 3.7.0 32-bit",
   "name": "python3"
  },
  "language_info": {
   "codemirror_mode": {
    "name": "ipython",
    "version": 3
   },
   "file_extension": ".py",
   "mimetype": "text/x-python",
   "name": "python",
   "nbconvert_exporter": "python",
   "pygments_lexer": "ipython3",
   "version": "3.7.0"
  }
 },
 "nbformat": 4,
 "nbformat_minor": 5
}
