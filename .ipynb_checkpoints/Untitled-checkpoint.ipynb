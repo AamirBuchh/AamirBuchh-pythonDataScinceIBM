{
 "cells": [
  {
   "cell_type": "code",
   "execution_count": 6,
   "id": "b423308c-4232-4460-a4e0-b9e7427881c5",
   "metadata": {},
   "outputs": [],
   "source": [
    "name = 'Aamir Ahmad'"
   ]
  },
  {
   "cell_type": "code",
   "execution_count": 14,
   "id": "9afd6c5f-5fac-4349-ae24-cf74314fa921",
   "metadata": {},
   "outputs": [
    {
     "name": "stdout",
     "output_type": "stream",
     "text": [
      "aamir\taamir\taamir\t\n"
     ]
    }
   ],
   "source": [
    "print(3*\"aamir\\t\")"
   ]
  },
  {
   "cell_type": "code",
   "execution_count": 17,
   "id": "4765349e-293c-460f-a39b-441de899c2b3",
   "metadata": {},
   "outputs": [
    {
     "name": "stdout",
     "output_type": "stream",
     "text": [
      "My name is AAMIR AHMAD\n"
     ]
    }
   ],
   "source": [
    "print('My name is '+ name)"
   ]
  },
  {
   "cell_type": "code",
   "execution_count": null,
   "id": "2097e608-c0b3-4682-bb3e-fd2613855f46",
   "metadata": {},
   "outputs": [],
   "source": []
  }
 ],
 "metadata": {
  "kernelspec": {
   "display_name": "Python",
   "language": "python",
   "name": "conda-env-python-py"
  },
  "language_info": {
   "codemirror_mode": {
    "name": "ipython",
    "version": 3
   },
   "file_extension": ".py",
   "mimetype": "text/x-python",
   "name": "python",
   "nbconvert_exporter": "python",
   "pygments_lexer": "ipython3",
   "version": "3.6.13"
  }
 },
 "nbformat": 4,
 "nbformat_minor": 5
}
